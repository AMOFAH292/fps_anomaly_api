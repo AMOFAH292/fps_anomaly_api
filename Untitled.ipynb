{
 "cells": [
  {
   "cell_type": "code",
   "execution_count": 1,
   "id": "647496bb-e1f7-4f0a-ac01-14fe65231012",
   "metadata": {},
   "outputs": [
    {
     "data": {
      "text/plain": [
       "(10000, 25)"
      ]
     },
     "execution_count": 1,
     "metadata": {},
     "output_type": "execute_result"
    }
   ],
   "source": [
    "import pandas as pd\n",
    "\n",
    "df = pd.read_csv(r\"C:\\Users\\Felix\\Documents\\ANOMALY_MODEL\\anomaly_dataset.csv\")\n",
    "df.shape"
   ]
  },
  {
   "cell_type": "code",
   "execution_count": 3,
   "id": "0e5d17a0-be4f-487a-8f4b-73b9d481527a",
   "metadata": {},
   "outputs": [
    {
     "data": {
      "text/html": [
       "<div>\n",
       "<style scoped>\n",
       "    .dataframe tbody tr th:only-of-type {\n",
       "        vertical-align: middle;\n",
       "    }\n",
       "\n",
       "    .dataframe tbody tr th {\n",
       "        vertical-align: top;\n",
       "    }\n",
       "\n",
       "    .dataframe thead th {\n",
       "        text-align: right;\n",
       "    }\n",
       "</style>\n",
       "<table border=\"1\" class=\"dataframe\">\n",
       "  <thead>\n",
       "    <tr style=\"text-align: right;\">\n",
       "      <th></th>\n",
       "      <th>fee_amount_due</th>\n",
       "      <th>amount_paid</th>\n",
       "      <th>payment_method</th>\n",
       "      <th>is_new_device</th>\n",
       "      <th>student_name_match</th>\n",
       "      <th>time_since_last_payment_days</th>\n",
       "      <th>timestamp</th>\n",
       "      <th>student_type</th>\n",
       "      <th>is_anomaly</th>\n",
       "    </tr>\n",
       "  </thead>\n",
       "  <tbody>\n",
       "    <tr>\n",
       "      <th>0</th>\n",
       "      <td>8529.51</td>\n",
       "      <td>8554.84</td>\n",
       "      <td>Bank</td>\n",
       "      <td>False</td>\n",
       "      <td>True</td>\n",
       "      <td>99</td>\n",
       "      <td>2024-01-18 14:08:00</td>\n",
       "      <td>university</td>\n",
       "      <td>0</td>\n",
       "    </tr>\n",
       "    <tr>\n",
       "      <th>1</th>\n",
       "      <td>3716.65</td>\n",
       "      <td>2636.50</td>\n",
       "      <td>Mobile Money</td>\n",
       "      <td>False</td>\n",
       "      <td>True</td>\n",
       "      <td>120</td>\n",
       "      <td>2024-03-04 12:12:00</td>\n",
       "      <td>university</td>\n",
       "      <td>0</td>\n",
       "    </tr>\n",
       "    <tr>\n",
       "      <th>2</th>\n",
       "      <td>1276.06</td>\n",
       "      <td>1276.06</td>\n",
       "      <td>Mobile Money</td>\n",
       "      <td>False</td>\n",
       "      <td>True</td>\n",
       "      <td>87</td>\n",
       "      <td>2024-01-09 07:07:00</td>\n",
       "      <td>middle_school</td>\n",
       "      <td>0</td>\n",
       "    </tr>\n",
       "    <tr>\n",
       "      <th>3</th>\n",
       "      <td>1589.27</td>\n",
       "      <td>1589.27</td>\n",
       "      <td>Mobile Money</td>\n",
       "      <td>False</td>\n",
       "      <td>True</td>\n",
       "      <td>102</td>\n",
       "      <td>2024-01-03 08:30:00</td>\n",
       "      <td>middle_school</td>\n",
       "      <td>0</td>\n",
       "    </tr>\n",
       "    <tr>\n",
       "      <th>4</th>\n",
       "      <td>9940.45</td>\n",
       "      <td>9940.45</td>\n",
       "      <td>Mobile Money</td>\n",
       "      <td>False</td>\n",
       "      <td>True</td>\n",
       "      <td>30</td>\n",
       "      <td>2024-08-05 20:51:00</td>\n",
       "      <td>university</td>\n",
       "      <td>0</td>\n",
       "    </tr>\n",
       "  </tbody>\n",
       "</table>\n",
       "</div>"
      ],
      "text/plain": [
       "   fee_amount_due  amount_paid payment_method  is_new_device  \\\n",
       "0         8529.51      8554.84           Bank          False   \n",
       "1         3716.65      2636.50   Mobile Money          False   \n",
       "2         1276.06      1276.06   Mobile Money          False   \n",
       "3         1589.27      1589.27   Mobile Money          False   \n",
       "4         9940.45      9940.45   Mobile Money          False   \n",
       "\n",
       "   student_name_match  time_since_last_payment_days            timestamp  \\\n",
       "0                True                            99  2024-01-18 14:08:00   \n",
       "1                True                           120  2024-03-04 12:12:00   \n",
       "2                True                            87  2024-01-09 07:07:00   \n",
       "3                True                           102  2024-01-03 08:30:00   \n",
       "4                True                            30  2024-08-05 20:51:00   \n",
       "\n",
       "    student_type  is_anomaly  \n",
       "0     university           0  \n",
       "1     university           0  \n",
       "2  middle_school           0  \n",
       "3  middle_school           0  \n",
       "4     university           0  "
      ]
     },
     "execution_count": 3,
     "metadata": {},
     "output_type": "execute_result"
    }
   ],
   "source": [
    "final_columns = ['fee_amount_due', \n",
    "                 'amount_paid', \n",
    "                 'payment_method', \n",
    "                 'is_new_device', \n",
    "                 'student_name_match', \n",
    "                 'time_since_last_payment_days', \n",
    "                 'timestamp', \n",
    "                 'student_type',\n",
    "                'is_anomaly']\n",
    "\n",
    "final_df = df[final_columns]\n",
    "final_df.head()"
   ]
  },
  {
   "cell_type": "code",
   "execution_count": 4,
   "id": "6d46080c-9854-4a11-8cd3-e749ef5a9ca7",
   "metadata": {},
   "outputs": [
    {
     "data": {
      "text/plain": [
       "(8000, 9)"
      ]
     },
     "execution_count": 4,
     "metadata": {},
     "output_type": "execute_result"
    }
   ],
   "source": [
    "training_df = final_df[final_df[\"is_anomaly\"]==0]\n",
    "training_df.shape"
   ]
  },
  {
   "cell_type": "code",
   "execution_count": 6,
   "id": "3e41728c-a8d4-4cd1-9110-4e8e3dd39674",
   "metadata": {},
   "outputs": [
    {
     "name": "stdout",
     "output_type": "stream",
     "text": [
      "✅ Pipeline saved successfully\n"
     ]
    }
   ],
   "source": [
    "# pipeline_build.py\n",
    "import joblib\n",
    "from sklearn.pipeline import Pipeline\n",
    "from sklearn.preprocessing import FunctionTransformer, StandardScaler, OneHotEncoder\n",
    "from sklearn.compose import ColumnTransformer\n",
    "from features import feature_engineering  # import from the new module\n",
    "import pandas as pd\n",
    "\n",
    "# Assume training_df is your DataFrame\n",
    "# Apply feature engineering first\n",
    "df_fe = feature_engineering(training_df)\n",
    "\n",
    "# Then create ColumnTransformer\n",
    "preprocessor = ColumnTransformer(\n",
    "    transformers=[\n",
    "        ('categorical_encode', OneHotEncoder(handle_unknown='ignore', sparse_output=False), ['payment_method']),\n",
    "        ('numeric_scale', StandardScaler(), [\n",
    "            'amount_diff', 'log_time_since_last_payment_days', 'sin_hour', 'cos_hour',\n",
    "            'sin_day', 'cos_day', 'sin_month', 'cos_month', 'amount_ratio'\n",
    "        ]),\n",
    "        ('binary_pass', 'passthrough', ['is_new_device', 'student_name_match', 'is_over_payment'])\n",
    "    ],\n",
    "    remainder='drop'\n",
    ")\n",
    "\n",
    "pipeline_2 = Pipeline([\n",
    "    ('preprocessor', preprocessor)\n",
    "])\n",
    "\n",
    "pipeline_2.fit(df_fe)\n",
    "joblib.dump(pipeline_2, \"main_pipeline.pkl\")\n",
    "print(\"✅ Pipeline saved successfully\")\n",
    "\n"
   ]
  },
  {
   "cell_type": "code",
   "execution_count": 10,
   "id": "b2dac1d8-1dd8-44db-b645-de8211ed8e3f",
   "metadata": {},
   "outputs": [
    {
     "data": {
      "text/plain": [
       "['encoder.pkl']"
      ]
     },
     "execution_count": 10,
     "metadata": {},
     "output_type": "execute_result"
    }
   ],
   "source": [
    "from sklearn.preprocessing import StandardScaler, OneHotEncoder\n",
    "import joblib\n",
    "\n",
    "# Apply feature engineering first\n",
    "df_fe = feature_engineering(training_df)\n",
    "\n",
    "# Fit scalers/encoders\n",
    "numeric_cols = ['amount_diff', 'log_time_since_last_payment_days', 'sin_hour', 'cos_hour',\n",
    "                'sin_day', 'cos_day', 'sin_month', 'cos_month', 'amount_ratio']\n",
    "scaler = StandardScaler().fit(df_fe[numeric_cols])\n",
    "joblib.dump(scaler, \"scaler.pkl\")\n",
    "\n",
    "encoder = OneHotEncoder(handle_unknown='ignore', sparse_output=False).fit(df_fe[['payment_method']])\n",
    "joblib.dump(encoder, \"encoder.pkl\")\n"
   ]
  }
 ],
 "metadata": {
  "kernelspec": {
   "display_name": "Python [conda env:base] *",
   "language": "python",
   "name": "conda-base-py"
  },
  "language_info": {
   "codemirror_mode": {
    "name": "ipython",
    "version": 3
   },
   "file_extension": ".py",
   "mimetype": "text/x-python",
   "name": "python",
   "nbconvert_exporter": "python",
   "pygments_lexer": "ipython3",
   "version": "3.13.5"
  }
 },
 "nbformat": 4,
 "nbformat_minor": 5
}
